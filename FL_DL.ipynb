{
 "cells": [
  {
   "cell_type": "code",
   "execution_count": 36,
   "id": "cfd8c888",
   "metadata": {
    "ExecuteTime": {
     "end_time": "2024-12-18T03:15:51.490001Z",
     "start_time": "2024-12-18T03:15:51.466472Z"
    }
   },
   "outputs": [],
   "source": [
    "import os\n",
    "from dotenv import load_dotenv\n",
    "from selenium import webdriver\n",
    "from selenium.webdriver.common.by import By\n",
    "from selenium.webdriver.common.keys import Keys\n",
    "from selenium.webdriver.chrome.service import Service\n",
    "from selenium.webdriver.common.action_chains import ActionChains\n",
    "from selenium.webdriver.support.ui import WebDriverWait\n",
    "from selenium.webdriver.support import expected_conditions as EC\n",
    "from bs4 import BeautifulSoup\n",
    "import time\n",
    "from openai import OpenAI\n",
    "from prompts import question_prompt, assessment_prompt\n",
    "# Load environment variables\n",
    "load_dotenv()\n",
    "\n",
    "\n",
    "# Access email and password from .env file\n",
    "email_id = os.getenv(\"EMAIL\")\n",
    "password = os.getenv(\"PASSWORD\")\n",
    "\n",
    "def login():\n",
    "    # Wait until the email input field is present\n",
    "    WebDriverWait(driver, 10).until(\n",
    "        EC.presence_of_element_located((By.XPATH, '/html/body/div[1]/section/div/div[2]/div/div/div/form/fieldset/div[1]/input'))\n",
    "    )\n",
    "    # Find the email input field and enter the email\n",
    "    email_input = driver.find_element(By.XPATH, '/html/body/div[1]/section/div/div[2]/div/div/div/form/fieldset/div[1]/input')\n",
    "    email_input.send_keys(email_id)\n",
    "    # Submit the email\n",
    "    email_input.send_keys(Keys.RETURN)\n",
    "\n",
    "    WebDriverWait(driver, 10).until(\n",
    "        EC.presence_of_element_located((By.XPATH, '/html/body/div[1]/section/div/div[2]/div/div/div/form/fieldset/div[2]/input'))\n",
    "    )\n",
    "    # Find the password input field and enter the password\n",
    "    password_input = driver.find_element(By.XPATH, '/html/body/div[1]/section/div/div[2]/div/div/div/form/fieldset/div[2]/input')\n",
    "    password_input.send_keys(password)\n",
    "    # Submit the form\n",
    "    password_input.send_keys(Keys.RETURN)\n",
    "\n",
    "    \n",
    "\n",
    "def click_optional_buttons():\n",
    "    # optional button 1\n",
    "    # Resume Course section button.\n",
    "    try:\n",
    "        button = driver.find_element(By.XPATH, '/html/body/div[3]/section/div[1]/div[1]/div/a')\n",
    "        button.click()\n",
    "    except:\n",
    "        pass\n",
    "    try:\n",
    "        button = driver.find_element(By.XPATH, '/html/body/div[3]/section/div/div/div/div/div/a[1]')\n",
    "        button.click()\n",
    "    except:\n",
    "        pass\n",
    "    \n",
    "    \n",
    "    \n",
    "def get_question_section(xpath=\"/html/body/div[3]/section/div/div\"):\n",
    "    # Check if the specific section exists\n",
    "    try:\n",
    "        section = driver.find_element(By.XPATH, xpath)\n",
    "#         if section.get_attribute(\"data-test\") == \"popupQuestionContainer\":\n",
    "#             print(\"The Question section exists on the page.\")\n",
    "        question_section_html = section.get_attribute('outerHTML')\n",
    "        return question_section_html\n",
    "    except:\n",
    "        pass\n",
    "    return None\n",
    "\n",
    "def get_assessment_section(xpath='/html/body/div[3]/section/div/div'):\n",
    "    try:\n",
    "        section = driver.find_element(By.XPATH, xpath)\n",
    "#         if section.get_attribute(\"class\") == \"gritCourseflowNode__question-wrapper\":\n",
    "#             print(True)\n",
    "#             print(\"The Question section exists on the page.\")\n",
    "        assessment_section_html = section.get_attribute('outerHTML')\n",
    "        return assessment_section_html\n",
    "    except:\n",
    "        pass\n",
    "    return None\n",
    "\n",
    "\n",
    "# def answer_question(answer_button_Xpath):\n",
    "#     try:\n",
    "#         answer_button = WebDriverWait(driver, 10).until(\n",
    "#             EC.element_to_be_clickable((By.XPATH, answer_button_Xpath))\n",
    "#         )\n",
    "#         answer_button.click()\n",
    "#         print(\"Clicked on the answer button.\")\n",
    "#         try:\n",
    "#             submit_button = WebDriverWait(driver, 10).until(\n",
    "#                 EC.element_to_be_clickable((By.XPATH, '/html/body/div/section/section/main/main/nav/div/div[3]/button'))\n",
    "#             )\n",
    "#             submit_button.click()\n",
    "#             print(\"Clicked on the submit button.\")\n",
    "#             answer_status = answer_status = WebDriverWait(driver, 10).until(\n",
    "#                     EC.element_to_be_clickable((By.XPATH,'/html/body/div/section/section/main/main/article/div/div[2]/div/div[1]/div[2]/div/div/h3'))\n",
    "#                 ).text\n",
    "#             return answer_status\n",
    "#         except Exception as e:\n",
    "#             print(f\"An error occurred while clicking the submit button: {e}\")\n",
    "#     except Exception as e:\n",
    "#         print(f\"An error occurred while clicking the answer button: {e}\")\n",
    "#     return None\n",
    "\n",
    "# def answer_assessment(answer_text):\n",
    "#     try:\n",
    "#         escaped_text = answer_text.replace(\"'\", \"\\'\")\n",
    "    \n",
    "#         # Use an XPath with normalize-space() and contains() to handle multiline and special characters\n",
    "#         button = driver.find_element(By.XPATH, f\"//button[contains(normalize-space(), \\\"{escaped_text}\\\")]\")\n",
    "#         button.click()\n",
    "#         print(f\"Clicked the button with text {answer_text}.\")\n",
    "#         try:\n",
    "#             submit_button = WebDriverWait(driver, 10).until(\n",
    "#                 EC.element_to_be_clickable((By.XPATH, '/html/body/div/section/section/main/div/nav/div/div[3]/button'))\n",
    "#             )\n",
    "#             submit_button.click()\n",
    "#             print(\"Clicked on the submit button.\")\n",
    "#         except Exception as e:\n",
    "#             print(f\"Error occured while clicking Submit. {e}\")\n",
    "#     except Exception as e:\n",
    "#         print(f\"An error occurred: {e}\")\n"
   ]
  },
  {
   "cell_type": "code",
   "execution_count": 3,
   "id": "e3831694",
   "metadata": {
    "ExecuteTime": {
     "end_time": "2024-12-18T02:57:25.340719Z",
     "start_time": "2024-12-18T02:57:25.327614Z"
    }
   },
   "outputs": [],
   "source": [
    "from openai import OpenAI\n",
    "\n",
    "def get_gpt4o_response(prompt, model=\"gpt-4o\", temperature=0, max_tokens=300):\n",
    "    \"\"\"\n",
    "    Function to send a prompt to the OpenAI GPT-4 model and retrieve a response.\n",
    "\n",
    "    Parameters:\n",
    "        prompt (str): The input prompt to send to the GPT model.\n",
    "        model (str): The model to use (default is \"gpt-4\").\n",
    "        temperature (float): Sampling temperature. Higher values make the output more random.\n",
    "        max_tokens (int): The maximum number of tokens to include in the response.\n",
    "\n",
    "    Returns:\n",
    "        str: The model's response to the input prompt.\n",
    "    \"\"\"\n",
    "    try:\n",
    "        \n",
    "        client = OpenAI(\n",
    "            api_key=os.getenv(\"OPENAI_API_KEY\")\n",
    "        )\n",
    "        # Send the prompt to the OpenAI API\n",
    "        response = client.chat.completions.create(\n",
    "            messages=[{\"role\": \"user\", \"content\": prompt,}],\n",
    "            temperature=temperature,\n",
    "            model=model,\n",
    "        )\n",
    "\n",
    "        # Extract and return the response content\n",
    "        return response.choices[0].message.content\n",
    "    except Exception as e:\n",
    "        return f\"An error occurred: {str(e)}\"\n"
   ]
  },
  {
   "cell_type": "code",
   "execution_count": 4,
   "id": "677b1d25",
   "metadata": {
    "ExecuteTime": {
     "end_time": "2024-12-18T02:58:20.933110Z",
     "start_time": "2024-12-18T02:58:15.682907Z"
    }
   },
   "outputs": [],
   "source": [
    "# Initialize WebDriver (use ChromeDriver as an example)\n",
    "service = Service()  # Update with the path to your ChromeDriver\n",
    "options = webdriver.ChromeOptions()\n",
    "\n",
    "# Optional: Add any additional options (e.g., headless mode)\n",
    "# options.add_argument('--headless')\n",
    "\n",
    "# Start the WebDriver\n",
    "driver = webdriver.Chrome(service=service, options=options)\n",
    "driver.get(\"https://fusion.certus.com/courses\")\n",
    "# login to the account\n",
    "login()\n",
    "# Wait for the page to load after login\n",
    "page = WebDriverWait(driver, 10).until(\n",
    "    EC.presence_of_element_located((By.TAG_NAME, 'body'))\n",
    ")\n"
   ]
  },
  {
   "cell_type": "code",
   "execution_count": 51,
   "id": "a71760e8",
   "metadata": {
    "ExecuteTime": {
     "end_time": "2024-12-18T03:55:32.502032Z",
     "start_time": "2024-12-18T03:45:42.333141Z"
    }
   },
   "outputs": [
    {
     "name": "stdout",
     "output_type": "stream",
     "text": [
      "00:09:49\n",
      "Waiting for 590 seconds\n",
      "Clicking next button...\n"
     ]
    }
   ],
   "source": [
    "# Click Next Button\n",
    "try:\n",
    "    driver.switch_to.default_content()\n",
    "    driver.switch_to.default_content()\n",
    "\n",
    "    timer_text = driver.find_element(By.XPATH, '/html/body/div[3]/section/div[2]/div/div[2]/div/span[3]').text\n",
    "    print(timer_text)\n",
    "    if timer_text !='':\n",
    "        h,m,s = [int(x) for x in timer_text.split(\":\")]\n",
    "        wait_time = (h*3600)+(m*60)+s\n",
    "        print(f\"Waiting for {wait_time+1} seconds\")\n",
    "        time.sleep(wait_time+1)\n",
    "\n",
    "    next_button = driver.find_element(By.XPATH, '/html/body/div[3]/section/div[2]/div/div[5]/div/button')\n",
    "    print(\"Clicking next button...\")\n",
    "    WebDriverWait(driver, 10).until(EC.element_to_be_clickable(next_button)).click()\n",
    "except Exception as e:\n",
    "    print(e)"
   ]
  },
  {
   "cell_type": "code",
   "execution_count": 47,
   "id": "c0fbedd2",
   "metadata": {
    "ExecuteTime": {
     "end_time": "2024-12-18T03:27:36.228352Z",
     "start_time": "2024-12-18T03:27:23.416514Z"
    }
   },
   "outputs": [
    {
     "name": "stdout",
     "output_type": "stream",
     "text": [
      "Message: \n",
      "\n"
     ]
    }
   ],
   "source": [
    "# Click Show More Button\n",
    "try:\n",
    "    driver.switch_to.default_content()\n",
    "    driver.switch_to.default_content()\n",
    "\n",
    "    iframe1 = driver.find_element(By.XPATH, \"/html/body/div[3]/section/div[2]/div/div[4]/div/iframe\")\n",
    "    driver.switch_to.frame(iframe1)\n",
    "    iframe2 = driver.find_element(By.XPATH, \"/html/body/iframe[1]\")\n",
    "    driver.switch_to.frame(iframe2)\n",
    "    driver.execute_script(\"window.scrollTo(0, document.body.scrollHeight);\")\n",
    "    time.sleep(2)\n",
    "    \n",
    "    show_more_button = driver.find_element(By.XPATH, \"/html/body/div[1]/div/div[11]/div[2]/div[2]/div[4]/div/div/div/div[3]/a\")\n",
    "#     show_more_button = driver.find_element(By.XPATH, '/html/body/div[2]/div/div[11]/div[2]/div[2]/div[4]/div/div/div/div[3]/a')\n",
    "    WebDriverWait(driver, 10).until(EC.element_to_be_clickable(show_more_button)).click()\n",
    "\n",
    "    driver.switch_to.default_content()\n",
    "    driver.switch_to.default_content()\n",
    "except Exception as e:\n",
    "    print(\"Button could not be clicked\")\n",
    "    print(e)"
   ]
  },
  {
   "cell_type": "code",
   "execution_count": null,
   "id": "c7edb426",
   "metadata": {},
   "outputs": [],
   "source": [
    "# Click options in question\n",
    "# option = driver.find_element(By.XPATH, \"/html/body/div[3]/section/div/div/div/div[2]/form/div[1]/div/div[5]/label/text()\")\n",
    "# option.click()"
   ]
  },
  {
   "cell_type": "code",
   "execution_count": null,
   "id": "7f434082",
   "metadata": {},
   "outputs": [],
   "source": [
    "<div class=\"questions\">\n",
    "    <h4 class=\"question\" data-ext-id=\"hdr-securityquestions-q117\">What was the first instrument you learned to play?</h4>\n",
    "        <div class=\"choices\" data-ext-id=\"div-securityquestions-q117-choices\">\n",
    "            <input type=\"hidden\" value=\"117\" name=\"QuestionId\">\n",
    "                <div class=\"custom-control custom-radio\">\n",
    "                    <input type=\"radio\" required=\"\" value=\"510\" id=\"answer-510\" name=\"AnswerId\" class=\"custom-control-input\" data-ext-id=\"rdo-securityquestions-q117-c510\">\n",
    "                    <label class=\"custom-control-label\" for=\"answer-510\" data-ext-id=\"lbl-securityquestions-q117-c510\">\n",
    "                        Piano\n",
    "                    </label>\n",
    "                </div>\n",
    "                <div class=\"custom-control custom-radio\">\n",
    "                    <input type=\"radio\" required=\"\" value=\"511\" id=\"answer-511\" name=\"AnswerId\" class=\"custom-control-input\" data-ext-id=\"rdo-securityquestions-q117-c511\">\n",
    "                    <label class=\"custom-control-label\" for=\"answer-511\" data-ext-id=\"lbl-securityquestions-q117-c511\">\n",
    "                        Violin\n",
    "                    </label>\n",
    "                </div>\n",
    "                <div class=\"custom-control custom-radio\">\n",
    "                    <input type=\"radio\" required=\"\" value=\"512\" id=\"answer-512\" name=\"AnswerId\" class=\"custom-control-input\" data-ext-id=\"rdo-securityquestions-q117-c512\">\n",
    "                    <label class=\"custom-control-label\" for=\"answer-512\" data-ext-id=\"lbl-securityquestions-q117-c512\">\n",
    "                        Guitar\n",
    "                    </label>\n",
    "                </div>\n",
    "                <div class=\"custom-control custom-radio\">\n",
    "                    <input type=\"radio\" required=\"\" value=\"513\" id=\"answer-513\" name=\"AnswerId\" class=\"custom-control-input\" data-ext-id=\"rdo-securityquestions-q117-c513\">\n",
    "                    <label class=\"custom-control-label\" for=\"answer-513\" data-ext-id=\"lbl-securityquestions-q117-c513\">\n",
    "                        Drums\n",
    "                    </label>\n",
    "                </div>\n",
    "                <div class=\"custom-control custom-radio\">\n",
    "                    <input type=\"radio\" required=\"\" value=\"514\" id=\"answer-514\" name=\"AnswerId\" class=\"custom-control-input\" data-ext-id=\"rdo-securityquestions-q117-c514\">\n",
    "                    <label class=\"custom-control-label\" for=\"answer-514\" data-ext-id=\"lbl-securityquestions-q117-c514\">\n",
    "                        I never learned an instrument\n",
    "                    </label>\n",
    "                </div>\n",
    "        </div>\n",
    "</div>\n",
    "\n",
    "/html/body/div[3]/section/div/div/div/div[2]/form/div[1]"
   ]
  },
  {
   "cell_type": "code",
   "execution_count": null,
   "id": "eca7615b",
   "metadata": {},
   "outputs": [],
   "source": [
    "I never learned an instrument\n",
    "\n",
    "/html/body/div[3]/section/div/div/div/div[2]/form/div[1]/div/div[5]/label"
   ]
  },
  {
   "cell_type": "code",
   "execution_count": null,
   "id": "993206bb",
   "metadata": {},
   "outputs": [],
   "source": [
    "/html/body/div[3]/section/div/div/div/div/div/a[1]"
   ]
  },
  {
   "cell_type": "code",
   "execution_count": 35,
   "id": "674f36fc",
   "metadata": {
    "ExecuteTime": {
     "end_time": "2024-12-18T03:11:09.527852Z",
     "start_time": "2024-12-18T03:11:09.515981Z"
    }
   },
   "outputs": [],
   "source": []
  },
  {
   "cell_type": "code",
   "execution_count": 59,
   "id": "1c9cab96",
   "metadata": {
    "ExecuteTime": {
     "end_time": "2024-12-18T03:58:49.481276Z",
     "start_time": "2024-12-18T03:58:48.659112Z"
    }
   },
   "outputs": [],
   "source": [
    "click_optional_buttons()"
   ]
  },
  {
   "cell_type": "code",
   "execution_count": null,
   "id": "6b9f148e",
   "metadata": {
    "ExecuteTime": {
     "end_time": "2024-12-18T01:57:22.173984Z",
     "start_time": "2024-12-18T01:57:22.130324Z"
    }
   },
   "outputs": [],
   "source": [
    "# def check_question_section(xpath):\n",
    "#     # Check if the specific section exists\n",
    "#     try:\n",
    "#         section = driver.find_element(By.XPATH, xpath)\n",
    "# #         if section.get_attribute(\"data-test\") == \"popupQuestionContainer\":\n",
    "# #             print(\"The Question section exists on the page.\")\n",
    "#         question_section_html = section.get_attribute('outerHTML')\n",
    "#         return question_section_html\n",
    "#     except:\n",
    "#         pass\n",
    "#     return None\n",
    "\n",
    "\n",
    "# xpath = '/html/body/div[3]/section/div/div[2]/div/form/div[1]'\n",
    "# check_question_section(xpath)"
   ]
  },
  {
   "cell_type": "code",
   "execution_count": null,
   "id": "e49b1d20",
   "metadata": {
    "ExecuteTime": {
     "end_time": "2024-12-18T02:04:21.325380Z",
     "start_time": "2024-12-18T02:04:21.277199Z"
    }
   },
   "outputs": [],
   "source": []
  },
  {
   "cell_type": "code",
   "execution_count": null,
   "id": "c60c2205",
   "metadata": {
    "ExecuteTime": {
     "end_time": "2024-12-18T01:59:13.152747Z",
     "start_time": "2024-12-18T01:59:12.473756Z"
    }
   },
   "outputs": [],
   "source": [
    "xpath = '/html/body/div[3]/section/div/div[2]/div/form/div[1]'\n",
    "\n",
    "question_section_html = check_question_section(xpath)\n",
    "prompt = question_prompt.format(xpath = xpath, question_section_html=question_section_html)\n",
    "\n",
    "print(f\"Pinging gpt4o...\\n\\n{prompt}\\n\\n\")\n",
    "answer_button_Xpath = get_gpt4o_response(prompt).strip()\n",
    "\n",
    "print(f\"Response:{answer_button_Xpath}\\n\\n\")\n",
    "# answer_status = answer_question(answer_button_Xpath)"
   ]
  },
  {
   "cell_type": "code",
   "execution_count": null,
   "id": "fce483ec",
   "metadata": {
    "ExecuteTime": {
     "end_time": "2024-12-18T01:59:16.522782Z",
     "start_time": "2024-12-18T01:59:16.201275Z"
    }
   },
   "outputs": [],
   "source": [
    "prompt = assessment_prompt.format(xpath=xpath, assessment_section_html=question_section_html)\n",
    "print(f\"Pinging gpt4o...\\n\\n{prompt}\\n\\n\")\n",
    "\n",
    "response = get_gpt4o_response(prompt).strip()\n",
    "if \"python\" in response:\n",
    "    answer_text = response\n",
    "else:\n",
    "    answer_text = response.strip()\n",
    "print(f\"Response: {answer_text}\\n\\n\")\n",
    "# answer_status = answer_assessment(answer_text)\n"
   ]
  },
  {
   "cell_type": "code",
   "execution_count": null,
   "id": "2c4e5743",
   "metadata": {
    "ExecuteTime": {
     "end_time": "2024-12-18T01:06:46.620870Z",
     "start_time": "2024-12-18T01:06:44.203416Z"
    }
   },
   "outputs": [],
   "source": []
  },
  {
   "cell_type": "code",
   "execution_count": null,
   "id": "deb9762a",
   "metadata": {
    "ExecuteTime": {
     "end_time": "2024-12-18T01:47:18.668306Z",
     "start_time": "2024-12-18T01:47:12.985130Z"
    }
   },
   "outputs": [],
   "source": []
  },
  {
   "cell_type": "code",
   "execution_count": null,
   "id": "a892258d",
   "metadata": {
    "ExecuteTime": {
     "end_time": "2024-12-15T00:44:39.206298Z",
     "start_time": "2024-12-15T00:44:38.940414Z"
    }
   },
   "outputs": [],
   "source": [
    "click_optional_buttons()"
   ]
  },
  {
   "cell_type": "code",
   "execution_count": null,
   "id": "97cf492c",
   "metadata": {},
   "outputs": [],
   "source": []
  },
  {
   "cell_type": "code",
   "execution_count": null,
   "id": "c9d346c9",
   "metadata": {
    "ExecuteTime": {
     "end_time": "2024-12-18T02:27:51.584666Z",
     "start_time": "2024-12-18T02:27:40.300271Z"
    }
   },
   "outputs": [],
   "source": []
  },
  {
   "cell_type": "code",
   "execution_count": null,
   "id": "a3dfb385",
   "metadata": {},
   "outputs": [],
   "source": []
  },
  {
   "cell_type": "code",
   "execution_count": null,
   "id": "17bfec06",
   "metadata": {
    "ExecuteTime": {
     "end_time": "2024-12-18T02:31:49.412423Z",
     "start_time": "2024-12-18T02:31:49.393465Z"
    }
   },
   "outputs": [],
   "source": [
    "show_more_button = driver.find_element(By.XPATH, \"/html/body/div[3]/section/div[2]/div/div[4]/div/iframe\")"
   ]
  },
  {
   "cell_type": "code",
   "execution_count": null,
   "id": "67f8ff64",
   "metadata": {
    "ExecuteTime": {
     "end_time": "2024-12-18T02:29:06.235122Z",
     "start_time": "2024-12-18T02:29:06.176557Z"
    }
   },
   "outputs": [],
   "source": [
    "show_more_button = driver.find_element(By.XPATH, \"/html/body/div[2]/div/div[11]/div[2]/div[2]/div[4]/div/div/div/div[3]/a\")"
   ]
  },
  {
   "cell_type": "code",
   "execution_count": null,
   "id": "23c082cf",
   "metadata": {
    "ExecuteTime": {
     "end_time": "2024-12-18T02:17:39.893348Z",
     "start_time": "2024-12-18T02:17:39.772615Z"
    }
   },
   "outputs": [],
   "source": [
    "WebDriverWait(driver, 10).until(\n",
    "    EC.presence_of_element_located((By.XPATH, '/html/body/div[3]/section/div[2]/div/div[5]/div/button'))\n",
    ")\n",
    "next_button = driver.find_element(By.XPATH, '/html/body/div[3]/section/div[2]/div/div[5]/div/button')\n",
    "next_button.click()\n"
   ]
  },
  {
   "cell_type": "code",
   "execution_count": null,
   "id": "1df5cf62",
   "metadata": {
    "ExecuteTime": {
     "end_time": "2024-12-15T17:09:59.292782Z",
     "start_time": "2024-12-15T17:09:55.098388Z"
    }
   },
   "outputs": [],
   "source": [
    "while True:\n",
    "    click_optional_buttons()\n",
    "\n",
    "#     # Answer Questions during Course\n",
    "#     question_section_html = check_question_section()\n",
    "#     if question_section_html!=None:\n",
    "#         prompt = question_prompt.format(question_section_html=question_section_html)\n",
    "#         print(f\"Pinging gpt4o...\\n\\n{prompt}\\n\\n\")\n",
    "#         answer_button_Xpath = get_gpt4o_response(prompt).strip().split(\"'\")[-2]\n",
    "#         print(f\"Response:{answer_button_Xpath}\\n\\n\")\n",
    "#         answer_status = answer_question(answer_button_Xpath)\n",
    "# #         if \"Correct\" in answer_status:\n",
    "# #             print(\"Answer is Correct\")\n",
    "# #         else:\n",
    "# #             print(\"Answer is Wrong\")\n",
    "# #             break\n",
    "\n",
    "#     # Answer Assessment Questions\n",
    "#     assessment_section_html = check_assessment_section()\n",
    "#     if assessment_section_html!=None:\n",
    "#         prompt = assessment_prompt.format(assessment_section_html=assessment_section_html)\n",
    "#         print(f\"Pinging gpt4o...\\n\\n{prompt}\\n\\n\")\n",
    "#         response = get_gpt4o_response(prompt).strip()\n",
    "#         if \"python\" in response:\n",
    "#             answer_text = response.split('\"')[-2]\n",
    "#         else:\n",
    "#             answer_text = response.strip().split(\"'\")[-2]\n",
    "#         print(f\"Response: {answer_text}\\n\\n\")\n",
    "#         answer_status = answer_assessment(answer_text)\n",
    "\n",
    "    # Wait for the timer countdown to finish and click the button\n",
    "    try:\n",
    "        next_button = driver.find_element(By.XPATH, '/html/body/div/section/section/main/main/nav/div/div[3]/button')\n",
    "        try:\n",
    "            timer_element = driver.find_element(By.XPATH, '/html/body/div/section/section/main/main/nav/div/div[3]/button/span[1]/div')\n",
    "            timer_text = timer_element.text\n",
    "            \n",
    "            # Parse the timer text into seconds\n",
    "            if \":\" in timer_text:\n",
    "                minutes, seconds = map(int, timer_text.split(\":\"))\n",
    "                wait_time = minutes * 60 + seconds\n",
    "            else:\n",
    "                wait_time = int(timer_text)\n",
    "\n",
    "            # Wait for the specified time\n",
    "            print(f\"Waiting for {wait_time} seconds for the timer to reach 00:00.\")\n",
    "            time.sleep(wait_time)\n",
    "            next_button.click()\n",
    "        except:\n",
    "            print(\"Timer not found, just clicking next button\")\n",
    "            # Click the button\n",
    "\n",
    "            next_button.click()\n",
    "\n",
    "    except Exception as e:\n",
    "        print(f\"An error occurred while waiting for the timer or clicking the next button: {e}\")\n",
    "    time.sleep(3)\n"
   ]
  },
  {
   "cell_type": "code",
   "execution_count": null,
   "id": "5429e21d",
   "metadata": {},
   "outputs": [],
   "source": []
  }
 ],
 "metadata": {
  "kernelspec": {
   "display_name": "Python 3 (ipykernel)",
   "language": "python",
   "name": "python3"
  },
  "language_info": {
   "codemirror_mode": {
    "name": "ipython",
    "version": 3
   },
   "file_extension": ".py",
   "mimetype": "text/x-python",
   "name": "python",
   "nbconvert_exporter": "python",
   "pygments_lexer": "ipython3",
   "version": "3.9.11"
  },
  "toc": {
   "base_numbering": 1,
   "nav_menu": {},
   "number_sections": true,
   "sideBar": true,
   "skip_h1_title": false,
   "title_cell": "Table of Contents",
   "title_sidebar": "Contents",
   "toc_cell": false,
   "toc_position": {},
   "toc_section_display": true,
   "toc_window_display": false
  },
  "varInspector": {
   "cols": {
    "lenName": 16,
    "lenType": 16,
    "lenVar": 40
   },
   "kernels_config": {
    "python": {
     "delete_cmd_postfix": "",
     "delete_cmd_prefix": "del ",
     "library": "var_list.py",
     "varRefreshCmd": "print(var_dic_list())"
    },
    "r": {
     "delete_cmd_postfix": ") ",
     "delete_cmd_prefix": "rm(",
     "library": "var_list.r",
     "varRefreshCmd": "cat(var_dic_list()) "
    }
   },
   "types_to_exclude": [
    "module",
    "function",
    "builtin_function_or_method",
    "instance",
    "_Feature"
   ],
   "window_display": false
  }
 },
 "nbformat": 4,
 "nbformat_minor": 5
}
